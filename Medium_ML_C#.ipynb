{
 "cells": [
  {
   "cell_type": "markdown",
   "metadata": {
    "slideshow": {
     "slide_type": "-"
    }
   },
   "source": [
    "# Machine Learning Without Python"
   ]
  },
  {
   "cell_type": "markdown",
   "metadata": {},
   "source": [
    "#### In this Article we will discuss about creating Data Model/Predict without Python"
   ]
  },
  {
   "cell_type": "markdown",
   "metadata": {},
   "source": [
    "##### If you are  C# developer /.Net Framework there is no need to learn new languages like Python or R for Data Science."
   ]
  },
  {
   "cell_type": "markdown",
   "metadata": {},
   "source": [
    "#### ML.NET\n",
    "An open source and cross-platform machine learning framework"
   ]
  },
  {
   "cell_type": "markdown",
   "metadata": {},
   "source": [
    "### JupyterNotebook\n",
    "The Jupyter Notebook is an open-source web application that allows you to create and share documents that contain live code, equations, visualizations and narrative text. Uses include: data cleaning and transformation, numerical simulation, statistical modeling, data visualization, machine learning, and much more.\n",
    "\n",
    "In-browser editing for code, with automatic syntax highlighting, indentation, and tab completion/introspection.\n",
    "\n",
    "The ability to execute code from the browser, with the results of computations attached to the code which generated them.\n",
    "\n",
    "Displaying the result of computation using rich media representations, such as HTML, LaTeX, PNG, SVG, etc. For example, publication-quality figures rendered by the matplotlib library, can be included inline.\n",
    "\n",
    "In-browser editing for rich text using the Markdown markup language, which can provide commentary for the code, is not limited to plain text.\n"
   ]
  },
  {
   "cell_type": "markdown",
   "metadata": {},
   "source": [
    "##### so Jupyer notebook  widely used in data science community and it has good support for Python language\n",
    "##### Good news for C# developers is Jupyter Notebook supports C# language "
   ]
  },
  {
   "cell_type": "markdown",
   "metadata": {},
   "source": [
    "https://devblogs.microsoft.com/dotnet/net-interactive-is-here-net-notebooks-preview-2/"
   ]
  },
  {
   "cell_type": "markdown",
   "metadata": {},
   "source": [
    "\".NET interactive is a group of CLI tools and APIs that enable users to create interactive experiences across the web, markdown, and notebooks.\""
   ]
  },
  {
   "cell_type": "markdown",
   "metadata": {},
   "source": [
    "### Ok Let's Write some code"
   ]
  },
  {
   "cell_type": "markdown",
   "metadata": {},
   "source": [
    "##### Install Required Packages"
   ]
  },
  {
   "cell_type": "code",
   "execution_count": 2,
   "metadata": {},
   "outputs": [
    {
     "data": {
      "text/plain": [
       "Installed package XPlot.Plotly version 3.0.1"
      ]
     },
     "metadata": {},
     "output_type": "display_data"
    },
    {
     "data": {
      "text/plain": [
       "Installed package Daany.DataFrame version 0.6.6"
      ]
     },
     "metadata": {},
     "output_type": "display_data"
    },
    {
     "data": {
      "text/plain": [
       "Installed package Microsoft.ML.LightGBM version 1.5.2"
      ]
     },
     "metadata": {},
     "output_type": "display_data"
    },
    {
     "data": {
      "text/plain": [
       "Installed package Daany.DataFrame.Ext version 0.6.6"
      ]
     },
     "metadata": {},
     "output_type": "display_data"
    },
    {
     "data": {
      "text/plain": [
       "Installed package Microsoft.ML.DataView version 1.5.2"
      ]
     },
     "metadata": {},
     "output_type": "display_data"
    },
    {
     "data": {
      "text/plain": [
       "Installed package Microsoft.ML version 1.5.2"
      ]
     },
     "metadata": {},
     "output_type": "display_data"
    }
   ],
   "source": [
    "//Way to Install packages in Jupyter NoteBook\n",
    "#r \"nuget:Microsoft.ML.LightGBM\"\n",
    "#r \"nuget:Microsoft.ML\"\n",
    "#r \"nuget:Microsoft.ML.DataView\"\n",
    "//Install XPlot package\n",
    "#r \"nuget:XPlot.Plotly\"\n",
    "//Install Daany.DataFrame (Data Frame view)\n",
    "#r \"nuget:Daany.DataFrame\"\n",
    "#r \"nuget:Daany.DataFrame.Ext\""
   ]
  },
  {
   "cell_type": "markdown",
   "metadata": {},
   "source": [
    "#### Using statements"
   ]
  },
  {
   "cell_type": "code",
   "execution_count": 3,
   "metadata": {},
   "outputs": [],
   "source": [
    "using System;\n",
    "using System.Collections.Generic;\n",
    "using System.IO;\n",
    "using System.Linq;\n",
    "using Microsoft.ML;\n",
    "using Microsoft.ML.Data;\n",
    "using Microsoft.ML.Trainers;\n",
    "using Daany;\n",
    "using Daany.Ext;\n",
    "using XPlot.Plotly;"
   ]
  },
  {
   "cell_type": "markdown",
   "metadata": {},
   "source": [
    "# Let's Create Data Model With Power of C# /ML.Net"
   ]
  },
  {
   "cell_type": "code",
   "execution_count": 7,
   "metadata": {},
   "outputs": [],
   "source": [
    "// ML Context\n",
    "var mlContext = new MLContext();\n",
    "\n",
    "// MLContext is the starting point for all ML.NET operations. \n",
    "// The MLContext is used for all aspects of creating and consuming an ML.NET model. \n",
    "// It is similar conceptually to DbContext in Entity Framework."
   ]
  },
  {
   "cell_type": "code",
   "execution_count": 10,
   "metadata": {},
   "outputs": [],
   "source": [
    "// Model Input Class-Your Model Format Structure\n",
    "public class ModelInput\n",
    "    {\n",
    "        [ColumnName(\"Column1\"), LoadColumn(0)]\n",
    "        public float Column1 { get; set; }\n",
    "\n",
    "\n",
    "        [ColumnName(\"Column2\"), LoadColumn(1)]\n",
    "        public string Column2 { get; set; }\n",
    "    }"
   ]
  },
  {
   "cell_type": "markdown",
   "metadata": {},
   "source": [
    "// Load Data\n",
    "##### IDataView trainingData = mlContext.Data.LoadFromTextFile<ModelInput>(\"FileNamePath\", separatorChar: ',', hasHeader: true);\n",
    "\n",
    "// From Local Collection\n",
    "#### IDataView trainingData = mlContext.Data.LoadFromEnumerable<SentimentInput>(inMemoryCollection);"
   ]
  },
  {
   "cell_type": "markdown",
   "metadata": {},
   "source": [
    "// Convert sentiment text into numeric features\n",
    "#### IEstimator<ITransformer> dataTransformPipeline = mlContext.Transforms.Text.FeaturizeText(\"Features\", \"SentimentText\");"
   ]
  },
  {
   "cell_type": "markdown",
   "metadata": {},
   "source": [
    "IEstimator<ITransformer> trainer = mlContext.BinaryClassification.Trainers\n",
    "    .AveragedPerceptron(labelColumnName: \"Sentiment\", featureColumnName: \"Features\"));\n",
    "\n",
    "IEstimator<ITransformer> trainingPipeline = dataTransformPipeline.Append(trainer);"
   ]
  },
  {
   "cell_type": "markdown",
   "metadata": {},
   "source": [
    "ITransformer model = pipeline.Fit(trainingData);"
   ]
  },
  {
   "cell_type": "markdown",
   "metadata": {},
   "source": [
    "// Make predictions on test data\n",
    "IDataView predictions = model.Transform(testDataView);\n",
    "\n",
    "// Evaluate model and return metrics\n",
    "var metrics = mlContext.BinaryClassification\n",
    "    .Evaluate(predictions, labelColumnName: \"Sentiment\"); \n",
    "\n",
    "// Print out accuracy metric\n",
    "Console.WriteLine(\"Accuracy\" + metrics.Accuracy);"
   ]
  },
  {
   "cell_type": "markdown",
   "metadata": {},
   "source": [
    "mlContext.Model.Save(model, trainingData, \"model.zip\");\n",
    "\n",
    "MLContext mlContext = new MLContext();\n",
    "DataViewSchema predictionPipelineSchema;\n",
    "ITransformer trainedModel = mlContext.Model.Load(\"model.zip\", out predictionPipelineSchema);\n",
    "\n",
    "var predEngine = mlContext.Model.CreatePredictionEngine(model); \n",
    "SentimentInput sampleComment = new SentimentInput{ SentimentText = \"This is very rude!\" }; \n",
    "SentimentOutput result = predEngine.Predict(sampleComment);\n",
    "Console.WriteLine(result.Prediction);\n"
   ]
  },
  {
   "cell_type": "markdown",
   "metadata": {},
   "source": [
    "var cols = new string[] {\"Col1\",\"Col2\", \"Col3\"};\n",
    "\n",
    "var df = DataFrame.FromCsv(\"Filepath\", sep:',',names:cols);\n",
    "\n",
    "df.Head(100)"
   ]
  },
  {
   "cell_type": "markdown",
   "metadata": {},
   "source": [
    "//see descriptive stats of the final ds\n",
    "df.Describe(false)"
   ]
  },
  {
   "cell_type": "markdown",
   "metadata": {},
   "source": [
    "var faresHistogram = Chart.Plot(new Graph.Scatter(){x = df[\"Col1\"],y=df[\"Col1\"]});\n",
    "var layout = new Layout.Layout(){title=\"Your Tile\"};\n",
    "faresHistogram.WithLayout(layout);\n",
    "display(faresHistogram);"
   ]
  },
  {
   "cell_type": "markdown",
   "metadata": {},
   "source": [
    "### Create Model with  Model Builder"
   ]
  },
  {
   "cell_type": "markdown",
   "metadata": {},
   "source": [
    "####                                                                    Reference from Official ML.Net Website"
   ]
  },
  {
   "cell_type": "markdown",
   "metadata": {},
   "source": [
    "<img src=\"https://dotnet.microsoft.com/static/images/ml-dotnet-model-builder.gif?v=CnFZt3lEkh14XZcgnztGfz6K1easGEfx7l8HE8H7x_Y\"/>"
   ]
  },
  {
   "cell_type": "markdown",
   "metadata": {},
   "source": [
    "### Help Links\n",
    "\n",
    "https://jupyter.org/index.html\n",
    "\n",
    "https://dotnet.microsoft.com/learn/ml-dotnet\n",
    "\n",
    "https://medium.com/@sannidhisiva/azure-engineer-to-azure-ai-engineer-7d6a1c673b04\n",
    "\n",
    "https://www.kaggle.com/\n",
    "\n",
    "https://machinelearningforkids.co.uk/\n",
    "\n"
   ]
  },
  {
   "cell_type": "code",
   "execution_count": null,
   "metadata": {},
   "outputs": [],
   "source": []
  }
 ],
 "metadata": {
  "kernelspec": {
   "display_name": ".NET (C#)",
   "language": "C#",
   "name": ".net-csharp"
  },
  "language_info": {
   "file_extension": ".cs",
   "mimetype": "text/x-csharp",
   "name": "C#",
   "pygments_lexer": "csharp",
   "version": "8.0"
  }
 },
 "nbformat": 4,
 "nbformat_minor": 4
}
